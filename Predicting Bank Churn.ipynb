{
 "cells": [
  {
   "cell_type": "markdown",
   "metadata": {},
   "source": [
    "# Predicting Bank Customer Churn\n",
    "\n",
    "### By Warren Berg"
   ]
  },
  {
   "cell_type": "markdown",
   "metadata": {},
   "source": [
    "The goal of this project is to use Machine Learning models including K-Nearest Neighbor, Logistic Regression, Linear SVC, Decision Tree Classifier, and Random Forest Classifier to predict which customers will leave the bank.\n",
    "\n",
    "This project involves 6 parts:\n",
    "1. Data Exploration\n",
    "2. Data Preparation\n",
    "3. Exploratory Modeling\n",
    "4. Feature Importance\n",
    "5. Official Modeling\n",
    "6. Conclusion"
   ]
  },
  {
   "cell_type": "markdown",
   "metadata": {},
   "source": [
    "## 1. Data Exploration"
   ]
  },
  {
   "cell_type": "code",
   "execution_count": 119,
   "metadata": {},
   "outputs": [],
   "source": [
    "# Import Packages\n",
    "\n",
    "import pandas as pd\n",
    "import numpy as np\n",
    "import matplotlib.pyplot as plt"
   ]
  },
  {
   "cell_type": "code",
   "execution_count": 5,
   "metadata": {},
   "outputs": [
    {
     "data": {
      "text/html": [
       "<div>\n",
       "<style scoped>\n",
       "    .dataframe tbody tr th:only-of-type {\n",
       "        vertical-align: middle;\n",
       "    }\n",
       "\n",
       "    .dataframe tbody tr th {\n",
       "        vertical-align: top;\n",
       "    }\n",
       "\n",
       "    .dataframe thead th {\n",
       "        text-align: right;\n",
       "    }\n",
       "</style>\n",
       "<table border=\"1\" class=\"dataframe\">\n",
       "  <thead>\n",
       "    <tr style=\"text-align: right;\">\n",
       "      <th></th>\n",
       "      <th>RowNumber</th>\n",
       "      <th>CustomerId</th>\n",
       "      <th>Surname</th>\n",
       "      <th>CreditScore</th>\n",
       "      <th>Geography</th>\n",
       "      <th>Gender</th>\n",
       "      <th>Age</th>\n",
       "      <th>Tenure</th>\n",
       "      <th>Balance</th>\n",
       "      <th>NumOfProducts</th>\n",
       "      <th>HasCrCard</th>\n",
       "      <th>IsActiveMember</th>\n",
       "      <th>EstimatedSalary</th>\n",
       "      <th>Exited</th>\n",
       "    </tr>\n",
       "  </thead>\n",
       "  <tbody>\n",
       "    <tr>\n",
       "      <th>0</th>\n",
       "      <td>1</td>\n",
       "      <td>15634602</td>\n",
       "      <td>Hargrave</td>\n",
       "      <td>619</td>\n",
       "      <td>France</td>\n",
       "      <td>Female</td>\n",
       "      <td>42</td>\n",
       "      <td>2</td>\n",
       "      <td>0.00</td>\n",
       "      <td>1</td>\n",
       "      <td>1</td>\n",
       "      <td>1</td>\n",
       "      <td>101348.88</td>\n",
       "      <td>1</td>\n",
       "    </tr>\n",
       "    <tr>\n",
       "      <th>1</th>\n",
       "      <td>2</td>\n",
       "      <td>15647311</td>\n",
       "      <td>Hill</td>\n",
       "      <td>608</td>\n",
       "      <td>Spain</td>\n",
       "      <td>Female</td>\n",
       "      <td>41</td>\n",
       "      <td>1</td>\n",
       "      <td>83807.86</td>\n",
       "      <td>1</td>\n",
       "      <td>0</td>\n",
       "      <td>1</td>\n",
       "      <td>112542.58</td>\n",
       "      <td>0</td>\n",
       "    </tr>\n",
       "    <tr>\n",
       "      <th>2</th>\n",
       "      <td>3</td>\n",
       "      <td>15619304</td>\n",
       "      <td>Onio</td>\n",
       "      <td>502</td>\n",
       "      <td>France</td>\n",
       "      <td>Female</td>\n",
       "      <td>42</td>\n",
       "      <td>8</td>\n",
       "      <td>159660.80</td>\n",
       "      <td>3</td>\n",
       "      <td>1</td>\n",
       "      <td>0</td>\n",
       "      <td>113931.57</td>\n",
       "      <td>1</td>\n",
       "    </tr>\n",
       "    <tr>\n",
       "      <th>3</th>\n",
       "      <td>4</td>\n",
       "      <td>15701354</td>\n",
       "      <td>Boni</td>\n",
       "      <td>699</td>\n",
       "      <td>France</td>\n",
       "      <td>Female</td>\n",
       "      <td>39</td>\n",
       "      <td>1</td>\n",
       "      <td>0.00</td>\n",
       "      <td>2</td>\n",
       "      <td>0</td>\n",
       "      <td>0</td>\n",
       "      <td>93826.63</td>\n",
       "      <td>0</td>\n",
       "    </tr>\n",
       "    <tr>\n",
       "      <th>4</th>\n",
       "      <td>5</td>\n",
       "      <td>15737888</td>\n",
       "      <td>Mitchell</td>\n",
       "      <td>850</td>\n",
       "      <td>Spain</td>\n",
       "      <td>Female</td>\n",
       "      <td>43</td>\n",
       "      <td>2</td>\n",
       "      <td>125510.82</td>\n",
       "      <td>1</td>\n",
       "      <td>1</td>\n",
       "      <td>1</td>\n",
       "      <td>79084.10</td>\n",
       "      <td>0</td>\n",
       "    </tr>\n",
       "  </tbody>\n",
       "</table>\n",
       "</div>"
      ],
      "text/plain": [
       "   RowNumber  CustomerId   Surname  CreditScore Geography  Gender  Age  \\\n",
       "0          1    15634602  Hargrave          619    France  Female   42   \n",
       "1          2    15647311      Hill          608     Spain  Female   41   \n",
       "2          3    15619304      Onio          502    France  Female   42   \n",
       "3          4    15701354      Boni          699    France  Female   39   \n",
       "4          5    15737888  Mitchell          850     Spain  Female   43   \n",
       "\n",
       "   Tenure    Balance  NumOfProducts  HasCrCard  IsActiveMember  \\\n",
       "0       2       0.00              1          1               1   \n",
       "1       1   83807.86              1          0               1   \n",
       "2       8  159660.80              3          1               0   \n",
       "3       1       0.00              2          0               0   \n",
       "4       2  125510.82              1          1               1   \n",
       "\n",
       "   EstimatedSalary  Exited  \n",
       "0        101348.88       1  \n",
       "1        112542.58       0  \n",
       "2        113931.57       1  \n",
       "3         93826.63       0  \n",
       "4         79084.10       0  "
      ]
     },
     "execution_count": 5,
     "metadata": {},
     "output_type": "execute_result"
    }
   ],
   "source": [
    "# Import Data\n",
    "\n",
    "churn = pd.read_csv('Churn_Modelling.csv')\n",
    "churn.head()"
   ]
  },
  {
   "cell_type": "code",
   "execution_count": 503,
   "metadata": {},
   "outputs": [],
   "source": [
    "# Churn rate for each Country"
   ]
  },
  {
   "cell_type": "code",
   "execution_count": 504,
   "metadata": {},
   "outputs": [
    {
     "data": {
      "text/plain": [
       "France     5014\n",
       "Germany    2509\n",
       "Spain      2477\n",
       "Name: Geography, dtype: int64"
      ]
     },
     "execution_count": 504,
     "metadata": {},
     "output_type": "execute_result"
    }
   ],
   "source": [
    "# Observe geographical locations in data set\n",
    "\n",
    "churn['Geography'].value_counts()"
   ]
  },
  {
   "cell_type": "code",
   "execution_count": 505,
   "metadata": {},
   "outputs": [],
   "source": [
    "# divide data by country\n",
    "\n",
    "# France\n",
    "france_churn_data = churn[churn['Geography']=='France']\n",
    "\n",
    "# Germany\n",
    "germany_churn_data = churn[churn['Geography']=='Germany']\n",
    "\n",
    "# Spain\n",
    "spain_churn_data = churn[churn['Geography']=='Spain']"
   ]
  },
  {
   "cell_type": "code",
   "execution_count": 577,
   "metadata": {},
   "outputs": [
    {
     "data": {
      "image/png": "[encoded data removed]",
      "text/plain": [
       "<Figure size 432x360 with 1 Axes>"
      ]
     },
     "metadata": {},
     "output_type": "display_data"
    }
   ],
   "source": [
    "# visualize\n",
    "\n",
    "labels = ['France', 'Germany', 'Spain']\n",
    "values = [len(france_churn_data), len(germany_churn_data), len(spain_churn_data)]\n",
    "\n",
    "fig, ax = plt.subplots(figsize=(6,5))\n",
    "\n",
    "ax.pie(values, labels=labels,autopct='%1.1f%%', colors = ['lightblue', 'green', 'orange'])\n",
    "ax.axis('equal')\n",
    "\n",
    "plt.show()"
   ]
  },
  {
   "cell_type": "code",
   "execution_count": 507,
   "metadata": {},
   "outputs": [],
   "source": [
    "# Determine Churn Rates for each Country\n",
    "\n",
    "# Formula (per country) : # Accounts that Exited / Total # Accounts \n",
    "\n",
    "# France \n",
    "churn_rate_france = len(france_churn_data[france_churn_data['Exited']==1])/len(france_churn_data)\n",
    "\n",
    "# Germany\n",
    "churn_rate_germany = len(germany_churn_data[germany_churn_data['Exited']==1])/len(germany_churn_data)\n",
    "\n",
    "# Spain\n",
    "churn_rate_spain = len(spain_churn_data[spain_churn_data['Exited']==1])/len(spain_churn_data)"
   ]
  },
  {
   "cell_type": "code",
   "execution_count": 601,
   "metadata": {},
   "outputs": [
    {
     "data": {
      "image/png": "[encoded data removed]",
      "text/plain": [
       "<Figure size 432x288 with 1 Axes>"
      ]
     },
     "metadata": {
      "needs_background": "light"
     },
     "output_type": "display_data"
    }
   ],
   "source": [
    "# visualize\n",
    "\n",
    "# labels\n",
    "positions = [1,2,3]\n",
    "labels = ['France', 'Germany', 'Spain']\n",
    "churn_rates = [churn_rate_france, churn_rate_germany, churn_rate_spain]\n",
    "\n",
    "fig, ax = plt.subplots()\n",
    "\n",
    "ax.bar(positions, churn_rates, label=labels, color = 'darkorange', tick_label=labels)\n",
    "ax.set_ylabel('% Customers Leaving')\n",
    "\n",
    "plt.title('Churn Rate By Country')\n",
    "\n",
    "plt.show()"
   ]
  },
  {
   "cell_type": "markdown",
   "metadata": {},
   "source": [
    "## 2. Data Preparation"
   ]
  },
  {
   "cell_type": "code",
   "execution_count": 45,
   "metadata": {},
   "outputs": [],
   "source": [
    "# Slice Data into independent (xg) and dependant variables (yg)\n",
    "\n",
    "# xg = columns we will use to train the data\n",
    "# yg = column we want to predict \n",
    "\n",
    "xg, yg = churn.iloc[:, 3:-1], churn.iloc[:,-1]"
   ]
  },
  {
   "cell_type": "code",
   "execution_count": 46,
   "metadata": {},
   "outputs": [
    {
     "data": {
      "text/html": [
       "<div>\n",
       "<style scoped>\n",
       "    .dataframe tbody tr th:only-of-type {\n",
       "        vertical-align: middle;\n",
       "    }\n",
       "\n",
       "    .dataframe tbody tr th {\n",
       "        vertical-align: top;\n",
       "    }\n",
       "\n",
       "    .dataframe thead th {\n",
       "        text-align: right;\n",
       "    }\n",
       "</style>\n",
       "<table border=\"1\" class=\"dataframe\">\n",
       "  <thead>\n",
       "    <tr style=\"text-align: right;\">\n",
       "      <th></th>\n",
       "      <th>CreditScore</th>\n",
       "      <th>Geography</th>\n",
       "      <th>Gender</th>\n",
       "      <th>Age</th>\n",
       "      <th>Tenure</th>\n",
       "      <th>Balance</th>\n",
       "      <th>NumOfProducts</th>\n",
       "      <th>HasCrCard</th>\n",
       "      <th>IsActiveMember</th>\n",
       "      <th>EstimatedSalary</th>\n",
       "    </tr>\n",
       "  </thead>\n",
       "  <tbody>\n",
       "    <tr>\n",
       "      <th>0</th>\n",
       "      <td>619</td>\n",
       "      <td>France</td>\n",
       "      <td>Female</td>\n",
       "      <td>42</td>\n",
       "      <td>2</td>\n",
       "      <td>0.00</td>\n",
       "      <td>1</td>\n",
       "      <td>1</td>\n",
       "      <td>1</td>\n",
       "      <td>101348.88</td>\n",
       "    </tr>\n",
       "    <tr>\n",
       "      <th>1</th>\n",
       "      <td>608</td>\n",
       "      <td>Spain</td>\n",
       "      <td>Female</td>\n",
       "      <td>41</td>\n",
       "      <td>1</td>\n",
       "      <td>83807.86</td>\n",
       "      <td>1</td>\n",
       "      <td>0</td>\n",
       "      <td>1</td>\n",
       "      <td>112542.58</td>\n",
       "    </tr>\n",
       "    <tr>\n",
       "      <th>2</th>\n",
       "      <td>502</td>\n",
       "      <td>France</td>\n",
       "      <td>Female</td>\n",
       "      <td>42</td>\n",
       "      <td>8</td>\n",
       "      <td>159660.80</td>\n",
       "      <td>3</td>\n",
       "      <td>1</td>\n",
       "      <td>0</td>\n",
       "      <td>113931.57</td>\n",
       "    </tr>\n",
       "    <tr>\n",
       "      <th>3</th>\n",
       "      <td>699</td>\n",
       "      <td>France</td>\n",
       "      <td>Female</td>\n",
       "      <td>39</td>\n",
       "      <td>1</td>\n",
       "      <td>0.00</td>\n",
       "      <td>2</td>\n",
       "      <td>0</td>\n",
       "      <td>0</td>\n",
       "      <td>93826.63</td>\n",
       "    </tr>\n",
       "    <tr>\n",
       "      <th>4</th>\n",
       "      <td>850</td>\n",
       "      <td>Spain</td>\n",
       "      <td>Female</td>\n",
       "      <td>43</td>\n",
       "      <td>2</td>\n",
       "      <td>125510.82</td>\n",
       "      <td>1</td>\n",
       "      <td>1</td>\n",
       "      <td>1</td>\n",
       "      <td>79084.10</td>\n",
       "    </tr>\n",
       "  </tbody>\n",
       "</table>\n",
       "</div>"
      ],
      "text/plain": [
       "   CreditScore Geography  Gender  Age  Tenure    Balance  NumOfProducts  \\\n",
       "0          619    France  Female   42       2       0.00              1   \n",
       "1          608     Spain  Female   41       1   83807.86              1   \n",
       "2          502    France  Female   42       8  159660.80              3   \n",
       "3          699    France  Female   39       1       0.00              2   \n",
       "4          850     Spain  Female   43       2  125510.82              1   \n",
       "\n",
       "   HasCrCard  IsActiveMember  EstimatedSalary  \n",
       "0          1               1        101348.88  \n",
       "1          0               1        112542.58  \n",
       "2          1               0        113931.57  \n",
       "3          0               0         93826.63  \n",
       "4          1               1         79084.10  "
      ]
     },
     "execution_count": 46,
     "metadata": {},
     "output_type": "execute_result"
    }
   ],
   "source": [
    "# show columns we will use to train data\n",
    "\n",
    "xg.head()"
   ]
  },
  {
   "cell_type": "code",
   "execution_count": 49,
   "metadata": {},
   "outputs": [
    {
     "data": {
      "text/plain": [
       "0    1\n",
       "1    0\n",
       "2    1\n",
       "3    0\n",
       "4    0\n",
       "Name: Exited, dtype: int64"
      ]
     },
     "execution_count": 49,
     "metadata": {},
     "output_type": "execute_result"
    }
   ],
   "source": [
    "# Column 'Exited' is the binary variable we are trying to predict\n",
    "\n",
    "yg.head()"
   ]
  },
  {
   "cell_type": "code",
   "execution_count": 53,
   "metadata": {},
   "outputs": [
    {
     "data": {
      "text/html": [
       "<div>\n",
       "<style scoped>\n",
       "    .dataframe tbody tr th:only-of-type {\n",
       "        vertical-align: middle;\n",
       "    }\n",
       "\n",
       "    .dataframe tbody tr th {\n",
       "        vertical-align: top;\n",
       "    }\n",
       "\n",
       "    .dataframe thead th {\n",
       "        text-align: right;\n",
       "    }\n",
       "</style>\n",
       "<table border=\"1\" class=\"dataframe\">\n",
       "  <thead>\n",
       "    <tr style=\"text-align: right;\">\n",
       "      <th></th>\n",
       "      <th>CreditScore</th>\n",
       "      <th>Age</th>\n",
       "      <th>Tenure</th>\n",
       "      <th>Balance</th>\n",
       "      <th>NumOfProducts</th>\n",
       "      <th>HasCrCard</th>\n",
       "      <th>IsActiveMember</th>\n",
       "      <th>EstimatedSalary</th>\n",
       "      <th>Geography_France</th>\n",
       "      <th>Geography_Germany</th>\n",
       "      <th>Geography_Spain</th>\n",
       "      <th>Gender_Female</th>\n",
       "      <th>Gender_Male</th>\n",
       "    </tr>\n",
       "  </thead>\n",
       "  <tbody>\n",
       "    <tr>\n",
       "      <th>0</th>\n",
       "      <td>619</td>\n",
       "      <td>42</td>\n",
       "      <td>2</td>\n",
       "      <td>0.00</td>\n",
       "      <td>1</td>\n",
       "      <td>1</td>\n",
       "      <td>1</td>\n",
       "      <td>101348.88</td>\n",
       "      <td>1</td>\n",
       "      <td>0</td>\n",
       "      <td>0</td>\n",
       "      <td>1</td>\n",
       "      <td>0</td>\n",
       "    </tr>\n",
       "    <tr>\n",
       "      <th>1</th>\n",
       "      <td>608</td>\n",
       "      <td>41</td>\n",
       "      <td>1</td>\n",
       "      <td>83807.86</td>\n",
       "      <td>1</td>\n",
       "      <td>0</td>\n",
       "      <td>1</td>\n",
       "      <td>112542.58</td>\n",
       "      <td>0</td>\n",
       "      <td>0</td>\n",
       "      <td>1</td>\n",
       "      <td>1</td>\n",
       "      <td>0</td>\n",
       "    </tr>\n",
       "    <tr>\n",
       "      <th>2</th>\n",
       "      <td>502</td>\n",
       "      <td>42</td>\n",
       "      <td>8</td>\n",
       "      <td>159660.80</td>\n",
       "      <td>3</td>\n",
       "      <td>1</td>\n",
       "      <td>0</td>\n",
       "      <td>113931.57</td>\n",
       "      <td>1</td>\n",
       "      <td>0</td>\n",
       "      <td>0</td>\n",
       "      <td>1</td>\n",
       "      <td>0</td>\n",
       "    </tr>\n",
       "    <tr>\n",
       "      <th>3</th>\n",
       "      <td>699</td>\n",
       "      <td>39</td>\n",
       "      <td>1</td>\n",
       "      <td>0.00</td>\n",
       "      <td>2</td>\n",
       "      <td>0</td>\n",
       "      <td>0</td>\n",
       "      <td>93826.63</td>\n",
       "      <td>1</td>\n",
       "      <td>0</td>\n",
       "      <td>0</td>\n",
       "      <td>1</td>\n",
       "      <td>0</td>\n",
       "    </tr>\n",
       "    <tr>\n",
       "      <th>4</th>\n",
       "      <td>850</td>\n",
       "      <td>43</td>\n",
       "      <td>2</td>\n",
       "      <td>125510.82</td>\n",
       "      <td>1</td>\n",
       "      <td>1</td>\n",
       "      <td>1</td>\n",
       "      <td>79084.10</td>\n",
       "      <td>0</td>\n",
       "      <td>0</td>\n",
       "      <td>1</td>\n",
       "      <td>1</td>\n",
       "      <td>0</td>\n",
       "    </tr>\n",
       "  </tbody>\n",
       "</table>\n",
       "</div>"
      ],
      "text/plain": [
       "   CreditScore  Age  Tenure    Balance  NumOfProducts  HasCrCard  \\\n",
       "0          619   42       2       0.00              1          1   \n",
       "1          608   41       1   83807.86              1          0   \n",
       "2          502   42       8  159660.80              3          1   \n",
       "3          699   39       1       0.00              2          0   \n",
       "4          850   43       2  125510.82              1          1   \n",
       "\n",
       "   IsActiveMember  EstimatedSalary  Geography_France  Geography_Germany  \\\n",
       "0               1        101348.88                 1                  0   \n",
       "1               1        112542.58                 0                  0   \n",
       "2               0        113931.57                 1                  0   \n",
       "3               0         93826.63                 1                  0   \n",
       "4               1         79084.10                 0                  0   \n",
       "\n",
       "   Geography_Spain  Gender_Female  Gender_Male  \n",
       "0                0              1            0  \n",
       "1                1              1            0  \n",
       "2                0              1            0  \n",
       "3                0              1            0  \n",
       "4                1              1            0  "
      ]
     },
     "execution_count": 53,
     "metadata": {},
     "output_type": "execute_result"
    }
   ],
   "source": [
    "# Convert categorical variables into dummy variables in xg\n",
    "\n",
    "x_dummies = pd.get_dummies(xg)\n",
    "x_dummies.head()"
   ]
  },
  {
   "cell_type": "code",
   "execution_count": null,
   "metadata": {},
   "outputs": [],
   "source": [
    "# Create Training/Test Data sets"
   ]
  },
  {
   "cell_type": "code",
   "execution_count": 59,
   "metadata": {},
   "outputs": [],
   "source": [
    "# Import Package\n",
    "\n",
    "from sklearn.model_selection import train_test_split"
   ]
  },
  {
   "cell_type": "code",
   "execution_count": 274,
   "metadata": {},
   "outputs": [],
   "source": [
    "# seperate into training and test sets\n",
    "# 75% train data\n",
    "# 25% test data\n",
    "\n",
    "x_train, x_test, y_train, y_test = train_test_split(x_dummies, yg, random_state=0)"
   ]
  },
  {
   "cell_type": "code",
   "execution_count": 275,
   "metadata": {},
   "outputs": [
    {
     "data": {
      "text/plain": [
       "(7500, 13)"
      ]
     },
     "execution_count": 275,
     "metadata": {},
     "output_type": "execute_result"
    }
   ],
   "source": [
    "x_train.shape"
   ]
  },
  {
   "cell_type": "markdown",
   "metadata": {},
   "source": [
    "## 3. Exploratory Modeling\n",
    "\n",
    "Now, we will train different models to try and predict if a customer will leave the bank based on the data"
   ]
  },
  {
   "cell_type": "code",
   "execution_count": null,
   "metadata": {},
   "outputs": [],
   "source": [
    "### KNN Model"
   ]
  },
  {
   "cell_type": "code",
   "execution_count": 66,
   "metadata": {},
   "outputs": [],
   "source": [
    "from sklearn.model_selection import validation_curve\n",
    "from sklearn.neighbors import KNeighborsClassifier"
   ]
  },
  {
   "cell_type": "code",
   "execution_count": 276,
   "metadata": {},
   "outputs": [
    {
     "data": {
      "text/plain": [
       "KNeighborsClassifier(n_neighbors=3)"
      ]
     },
     "execution_count": 276,
     "metadata": {},
     "output_type": "execute_result"
    }
   ],
   "source": [
    "# define K-Nearest Neighbors Model (n = 3)\n",
    "knn_churn = KNeighborsClassifier(n_neighbors = 3)\n",
    "\n",
    "# fit model\n",
    "knn_churn.fit(x_dummies, yg)"
   ]
  },
  {
   "cell_type": "code",
   "execution_count": 277,
   "metadata": {
    "scrolled": true
   },
   "outputs": [
    {
     "name": "stdout",
     "output_type": "stream",
     "text": [
      "KNN accuracy on train: 84.20%\n",
      "KNN accuracy on test: 83.56%\n"
     ]
    }
   ],
   "source": [
    "# Determine Accuracy for train/test sets\n",
    "\n",
    "print('KNN accuracy on train: {:.2%}'.format(knn_churn.score(x_train, y_train)))\n",
    "print('KNN accuracy on test: {:.2%}'.format(knn_churn.score(x_test, y_test)))"
   ]
  },
  {
   "cell_type": "code",
   "execution_count": 76,
   "metadata": {},
   "outputs": [],
   "source": [
    "# Logistic Regression Model"
   ]
  },
  {
   "cell_type": "code",
   "execution_count": 278,
   "metadata": {},
   "outputs": [],
   "source": [
    "# import\n",
    "\n",
    "from sklearn.linear_model import LogisticRegression"
   ]
  },
  {
   "cell_type": "code",
   "execution_count": 279,
   "metadata": {},
   "outputs": [
    {
     "data": {
      "text/plain": [
       "LogisticRegression()"
      ]
     },
     "execution_count": 279,
     "metadata": {},
     "output_type": "execute_result"
    }
   ],
   "source": [
    "# define Logistic Regression Model\n",
    "log_reg = LogisticRegression()\n",
    "\n",
    "# fit model\n",
    "log_reg.fit(x_train, y_train)"
   ]
  },
  {
   "cell_type": "code",
   "execution_count": 280,
   "metadata": {},
   "outputs": [
    {
     "name": "stdout",
     "output_type": "stream",
     "text": [
      "Logistic Regression accuracy on train: 79.09%\n",
      "Logistic Regression accuracy on test: 78.76%\n"
     ]
    }
   ],
   "source": [
    "# Determine Accuracy for train/test sets\n",
    "\n",
    "print('Logistic Regression accuracy on train: {:.2%}'.format(log_reg.score(x_train, y_train)))\n",
    "print('Logistic Regression accuracy on test: {:.2%}'.format(log_reg.score(x_test, y_test)))"
   ]
  },
  {
   "cell_type": "markdown",
   "metadata": {},
   "source": [
    "## 4. Feature Importance\n",
    "\n",
    "Determine which features are important and should be included in model to improve accuracy\n",
    "\n",
    "We will use two methods to determine feature importance\n",
    "- chi-squared method\n",
    "- Extra trees classifier"
   ]
  },
  {
   "cell_type": "markdown",
   "metadata": {},
   "source": [
    "#### Chi-Squared method\n",
    "\n",
    "The chi-squared statistic is a single number that tells you how much difference exists between your observed counts and the counts you would expect if there were no relationship at all in the population\n",
    "\n",
    "$x^2 = \\sum \\frac{(observed - expected)^2}{expected}$"
   ]
  },
  {
   "cell_type": "code",
   "execution_count": 82,
   "metadata": {},
   "outputs": [],
   "source": [
    "# import\n",
    "\n",
    "from sklearn.feature_selection import chi2\n",
    "from sklearn.feature_selection import SelectKBest"
   ]
  },
  {
   "cell_type": "code",
   "execution_count": 89,
   "metadata": {},
   "outputs": [
    {
     "data": {
      "text/plain": [
       "SelectKBest(k=5, score_func=<function chi2 at 0x000002122AAFB700>)"
      ]
     },
     "execution_count": 89,
     "metadata": {},
     "output_type": "execute_result"
    }
   ],
   "source": [
    "# select 5 columns with highest chi-squared\n",
    "\n",
    "best_x = SelectKBest(score_func=chi2, k=5)"
   ]
  },
  {
   "cell_type": "code",
   "execution_count": 100,
   "metadata": {},
   "outputs": [],
   "source": [
    "# fit with data\n",
    "\n",
    "best_fit = best_x.fit(x_dummies, yg)"
   ]
  },
  {
   "cell_type": "code",
   "execution_count": 113,
   "metadata": {},
   "outputs": [
    {
     "data": {
      "text/html": [
       "<div>\n",
       "<style scoped>\n",
       "    .dataframe tbody tr th:only-of-type {\n",
       "        vertical-align: middle;\n",
       "    }\n",
       "\n",
       "    .dataframe tbody tr th {\n",
       "        vertical-align: top;\n",
       "    }\n",
       "\n",
       "    .dataframe thead th {\n",
       "        text-align: right;\n",
       "    }\n",
       "</style>\n",
       "<table border=\"1\" class=\"dataframe\">\n",
       "  <thead>\n",
       "    <tr style=\"text-align: right;\">\n",
       "      <th></th>\n",
       "      <th>Feature</th>\n",
       "      <th>Score</th>\n",
       "    </tr>\n",
       "  </thead>\n",
       "  <tbody>\n",
       "    <tr>\n",
       "      <th>0</th>\n",
       "      <td>CreditScore</td>\n",
       "      <td>1.054035e+02</td>\n",
       "    </tr>\n",
       "    <tr>\n",
       "      <th>1</th>\n",
       "      <td>Age</td>\n",
       "      <td>2.300417e+03</td>\n",
       "    </tr>\n",
       "    <tr>\n",
       "      <th>2</th>\n",
       "      <td>Tenure</td>\n",
       "      <td>3.270538e+00</td>\n",
       "    </tr>\n",
       "    <tr>\n",
       "      <th>3</th>\n",
       "      <td>Balance</td>\n",
       "      <td>7.151303e+06</td>\n",
       "    </tr>\n",
       "    <tr>\n",
       "      <th>4</th>\n",
       "      <td>NumOfProducts</td>\n",
       "      <td>5.055394e+00</td>\n",
       "    </tr>\n",
       "    <tr>\n",
       "      <th>5</th>\n",
       "      <td>HasCrCard</td>\n",
       "      <td>1.500410e-01</td>\n",
       "    </tr>\n",
       "    <tr>\n",
       "      <th>6</th>\n",
       "      <td>IsActiveMember</td>\n",
       "      <td>1.181994e+02</td>\n",
       "    </tr>\n",
       "    <tr>\n",
       "      <th>7</th>\n",
       "      <td>EstimatedSalary</td>\n",
       "      <td>4.835088e+04</td>\n",
       "    </tr>\n",
       "    <tr>\n",
       "      <th>8</th>\n",
       "      <td>Geography_France</td>\n",
       "      <td>5.492371e+01</td>\n",
       "    </tr>\n",
       "    <tr>\n",
       "      <th>9</th>\n",
       "      <td>Geography_Germany</td>\n",
       "      <td>2.254644e+02</td>\n",
       "    </tr>\n",
       "    <tr>\n",
       "      <th>10</th>\n",
       "      <td>Geography_Spain</td>\n",
       "      <td>2.086721e+01</td>\n",
       "    </tr>\n",
       "    <tr>\n",
       "      <th>11</th>\n",
       "      <td>Gender_Female</td>\n",
       "      <td>6.190917e+01</td>\n",
       "    </tr>\n",
       "    <tr>\n",
       "      <th>12</th>\n",
       "      <td>Gender_Male</td>\n",
       "      <td>5.153993e+01</td>\n",
       "    </tr>\n",
       "  </tbody>\n",
       "</table>\n",
       "</div>"
      ],
      "text/plain": [
       "              Feature         Score\n",
       "0         CreditScore  1.054035e+02\n",
       "1                 Age  2.300417e+03\n",
       "2              Tenure  3.270538e+00\n",
       "3             Balance  7.151303e+06\n",
       "4       NumOfProducts  5.055394e+00\n",
       "5           HasCrCard  1.500410e-01\n",
       "6      IsActiveMember  1.181994e+02\n",
       "7     EstimatedSalary  4.835088e+04\n",
       "8    Geography_France  5.492371e+01\n",
       "9   Geography_Germany  2.254644e+02\n",
       "10    Geography_Spain  2.086721e+01\n",
       "11      Gender_Female  6.190917e+01\n",
       "12        Gender_Male  5.153993e+01"
      ]
     },
     "execution_count": 113,
     "metadata": {},
     "output_type": "execute_result"
    }
   ],
   "source": [
    "# create Data Frame with best features\n",
    "\n",
    "# chi squared scores\n",
    "dfscores = pd.DataFrame(best_fit.scores_)\n",
    "\n",
    "# columns \n",
    "dfcolumns = pd.DataFrame(x_dummies.columns)\n",
    "\n",
    "\n",
    "# best features\n",
    "best_features = pd.concat([dfcolumns, dfscores], axis=1)\n",
    "best_features.columns=['Feature', 'Score']\n",
    "\n",
    "# show the chi squared statistic for each column\n",
    "best_features"
   ]
  },
  {
   "cell_type": "code",
   "execution_count": 316,
   "metadata": {},
   "outputs": [
    {
     "name": "stdout",
     "output_type": "stream",
     "text": [
      "             Feature         Score\n",
      "3            Balance  7.151303e+06\n",
      "7    EstimatedSalary  4.835088e+04\n",
      "1                Age  2.300417e+03\n",
      "9  Geography_Germany  2.254644e+02\n",
      "6     IsActiveMember  1.181994e+02\n",
      "0        CreditScore  1.054035e+02\n"
     ]
    }
   ],
   "source": [
    "# Show top features based on largest chi squared statistic\n",
    "\n",
    "print(best_features.nlargest(6,'Score'))"
   ]
  },
  {
   "cell_type": "markdown",
   "metadata": {},
   "source": [
    "#### Extra Trees Classifier\n",
    "\n",
    "This class implements an estimator that fits a number of randomized decision trees (a.k.a. extra-trees) on various sub-samples of the dataset and uses averaging to improve the predictive accuracy and control over-fitting."
   ]
  },
  {
   "cell_type": "code",
   "execution_count": 120,
   "metadata": {},
   "outputs": [],
   "source": [
    "# import\n",
    "\n",
    "from sklearn.ensemble import ExtraTreesClassifier"
   ]
  },
  {
   "cell_type": "code",
   "execution_count": 123,
   "metadata": {},
   "outputs": [
    {
     "data": {
      "text/plain": [
       "ExtraTreesClassifier()"
      ]
     },
     "execution_count": 123,
     "metadata": {},
     "output_type": "execute_result"
    }
   ],
   "source": [
    "# Define Extra Trees Classifier\n",
    "et = ExtraTreesClassifier()\n",
    "\n",
    "# Fit Model\n",
    "et.fit(x_dummies, yg)"
   ]
  },
  {
   "cell_type": "code",
   "execution_count": 134,
   "metadata": {},
   "outputs": [
    {
     "data": {
      "text/plain": [
       "Age                  0.232660\n",
       "NumOfProducts        0.143477\n",
       "CreditScore          0.138044\n",
       "EstimatedSalary      0.137305\n",
       "Balance              0.134478\n",
       "Tenure               0.105751\n",
       "IsActiveMember       0.037571\n",
       "HasCrCard            0.022357\n",
       "Geography_Germany    0.020062\n",
       "Geography_France     0.008883\n",
       "Gender_Male          0.006725\n",
       "Geography_Spain      0.006667\n",
       "Gender_Female        0.006021\n",
       "dtype: float64"
      ]
     },
     "execution_count": 134,
     "metadata": {},
     "output_type": "execute_result"
    }
   ],
   "source": [
    "# Determine Feature Importance\n",
    "\n",
    "ft_importance = pd.Series(et.feature_importances_, index=x_dummies.columns)\n",
    "ft_importance.sort_values(ascending=False)"
   ]
  },
  {
   "cell_type": "code",
   "execution_count": 317,
   "metadata": {},
   "outputs": [],
   "source": [
    "# Based on the our findings above, we will choose the top features that appeared relevant in both the Chi-Squared and Extra Trees Classifier"
   ]
  },
  {
   "cell_type": "code",
   "execution_count": 318,
   "metadata": {},
   "outputs": [
    {
     "data": {
      "text/html": [
       "<div>\n",
       "<style scoped>\n",
       "    .dataframe tbody tr th:only-of-type {\n",
       "        vertical-align: middle;\n",
       "    }\n",
       "\n",
       "    .dataframe tbody tr th {\n",
       "        vertical-align: top;\n",
       "    }\n",
       "\n",
       "    .dataframe thead th {\n",
       "        text-align: right;\n",
       "    }\n",
       "</style>\n",
       "<table border=\"1\" class=\"dataframe\">\n",
       "  <thead>\n",
       "    <tr style=\"text-align: right;\">\n",
       "      <th></th>\n",
       "      <th>Age</th>\n",
       "      <th>NumOfProducts</th>\n",
       "      <th>CreditScore</th>\n",
       "      <th>EstimatedSalary</th>\n",
       "      <th>Balance</th>\n",
       "      <th>Tenure</th>\n",
       "      <th>IsActiveMember</th>\n",
       "    </tr>\n",
       "  </thead>\n",
       "  <tbody>\n",
       "    <tr>\n",
       "      <th>0</th>\n",
       "      <td>42</td>\n",
       "      <td>1</td>\n",
       "      <td>619</td>\n",
       "      <td>101348.88</td>\n",
       "      <td>0.00</td>\n",
       "      <td>2</td>\n",
       "      <td>1</td>\n",
       "    </tr>\n",
       "    <tr>\n",
       "      <th>1</th>\n",
       "      <td>41</td>\n",
       "      <td>1</td>\n",
       "      <td>608</td>\n",
       "      <td>112542.58</td>\n",
       "      <td>83807.86</td>\n",
       "      <td>1</td>\n",
       "      <td>1</td>\n",
       "    </tr>\n",
       "    <tr>\n",
       "      <th>2</th>\n",
       "      <td>42</td>\n",
       "      <td>3</td>\n",
       "      <td>502</td>\n",
       "      <td>113931.57</td>\n",
       "      <td>159660.80</td>\n",
       "      <td>8</td>\n",
       "      <td>0</td>\n",
       "    </tr>\n",
       "    <tr>\n",
       "      <th>3</th>\n",
       "      <td>39</td>\n",
       "      <td>2</td>\n",
       "      <td>699</td>\n",
       "      <td>93826.63</td>\n",
       "      <td>0.00</td>\n",
       "      <td>1</td>\n",
       "      <td>0</td>\n",
       "    </tr>\n",
       "    <tr>\n",
       "      <th>4</th>\n",
       "      <td>43</td>\n",
       "      <td>1</td>\n",
       "      <td>850</td>\n",
       "      <td>79084.10</td>\n",
       "      <td>125510.82</td>\n",
       "      <td>2</td>\n",
       "      <td>1</td>\n",
       "    </tr>\n",
       "  </tbody>\n",
       "</table>\n",
       "</div>"
      ],
      "text/plain": [
       "   Age  NumOfProducts  CreditScore  EstimatedSalary    Balance  Tenure  \\\n",
       "0   42              1          619        101348.88       0.00       2   \n",
       "1   41              1          608        112542.58   83807.86       1   \n",
       "2   42              3          502        113931.57  159660.80       8   \n",
       "3   39              2          699         93826.63       0.00       1   \n",
       "4   43              1          850         79084.10  125510.82       2   \n",
       "\n",
       "   IsActiveMember  \n",
       "0               1  \n",
       "1               1  \n",
       "2               0  \n",
       "3               0  \n",
       "4               1  "
      ]
     },
     "execution_count": 318,
     "metadata": {},
     "output_type": "execute_result"
    }
   ],
   "source": [
    "# select data from top features (top 7 dependent variables)\n",
    "\n",
    "x_new = x_dummies[['Age', 'NumOfProducts', 'CreditScore', 'EstimatedSalary', 'Balance', 'Tenure', 'IsActiveMember']]\n",
    "x_new.head()"
   ]
  },
  {
   "cell_type": "code",
   "execution_count": 319,
   "metadata": {},
   "outputs": [],
   "source": [
    "# Train, Test, Split with these variables\n",
    "\n",
    "x_train2, x_test2, y_train2, y_test2 = train_test_split(x_new, yg, random_state=0)"
   ]
  },
  {
   "cell_type": "markdown",
   "metadata": {},
   "source": [
    "## 5. Official Modeling\n",
    "\n",
    "Having settled on a set number of features, we will now train the models again with the hope of improved accuracy"
   ]
  },
  {
   "cell_type": "code",
   "execution_count": 320,
   "metadata": {},
   "outputs": [],
   "source": [
    "# KNN"
   ]
  },
  {
   "cell_type": "code",
   "execution_count": 321,
   "metadata": {},
   "outputs": [
    {
     "data": {
      "text/plain": [
       "KNeighborsClassifier(n_neighbors=3)"
      ]
     },
     "execution_count": 321,
     "metadata": {},
     "output_type": "execute_result"
    }
   ],
   "source": [
    "# Define Model\n",
    "knn_churn_2 = KNeighborsClassifier(n_neighbors=3)\n",
    "\n",
    "# Fit Model\n",
    "knn_churn_2.fit(x_new, yg)"
   ]
  },
  {
   "cell_type": "code",
   "execution_count": 322,
   "metadata": {},
   "outputs": [
    {
     "name": "stdout",
     "output_type": "stream",
     "text": [
      "KNN accuracy on train: 84.20%\n",
      "KNN accuracy on test: 83.56%\n"
     ]
    }
   ],
   "source": [
    "# Determine Accuracy for train/test sets\n",
    "\n",
    "print('KNN accuracy on train: {:.2%}'.format(knn_churn_2.score(x_train2, y_train2)))\n",
    "print('KNN accuracy on test: {:.2%}'.format(knn_churn_2.score(x_test2, y_test2)))"
   ]
  },
  {
   "cell_type": "code",
   "execution_count": 323,
   "metadata": {},
   "outputs": [],
   "source": [
    "# Validation Curve\n",
    "\n",
    "# Determine training and test scores for varying number of n_neighbors\n",
    "\n",
    "# list of n neighbors\n",
    "n_neighbors = [3,5,7,9,11]\n",
    "\n",
    "# Scores for each n\n",
    "train_score_knn, test_score_knn = validation_curve(KNeighborsClassifier(), x_new, yg, param_name='n_neighbors', param_range=n_neighbors, cv=4)"
   ]
  },
  {
   "cell_type": "code",
   "execution_count": 324,
   "metadata": {},
   "outputs": [
    {
     "name": "stdout",
     "output_type": "stream",
     "text": [
      "           Train    Test\n",
      "n = 3   0.842233  0.7341\n",
      "n = 5   0.816000  0.7646\n",
      "n = 7   0.806733  0.7767\n",
      "n = 9   0.801667  0.7823\n",
      "n = 11  0.799767  0.7864\n",
      "\n",
      "Average cross validation scores on train and test set for each n\n"
     ]
    }
   ],
   "source": [
    "# Show results of Validation Curve\n",
    "\n",
    "# define index\n",
    "ind = ['n = 3', 'n = 5', 'n = 7', 'n = 9', 'n = 11']\n",
    "\n",
    "# create DataFrame\n",
    "tr_knn = pd.DataFrame(train_score_knn.mean(axis=1), index=ind)\n",
    "tst_knn = pd.DataFrame(test_score_knn.mean(axis=1), index=ind)\n",
    "knn_val_curve = pd.concat([tr_knn, tst_knn], axis=1)\n",
    "\n",
    "# rename columns\n",
    "knn_val_curve.columns = ['Train', 'Test']\n",
    "\n",
    "# Display Results\n",
    "print(knn_val_curve)\n",
    "\n",
    "print('')\n",
    "print('Average cross validation scores on train and test set for each n')"
   ]
  },
  {
   "cell_type": "code",
   "execution_count": 325,
   "metadata": {},
   "outputs": [],
   "source": [
    "# Logistic Regression"
   ]
  },
  {
   "cell_type": "code",
   "execution_count": 326,
   "metadata": {},
   "outputs": [
    {
     "data": {
      "text/plain": [
       "LogisticRegression()"
      ]
     },
     "execution_count": 326,
     "metadata": {},
     "output_type": "execute_result"
    }
   ],
   "source": [
    "# Define model\n",
    "log_reg2 = LogisticRegression()\n",
    "\n",
    "# Fit Model\n",
    "log_reg2.fit(x_train2, y_train2)"
   ]
  },
  {
   "cell_type": "code",
   "execution_count": 327,
   "metadata": {},
   "outputs": [
    {
     "name": "stdout",
     "output_type": "stream",
     "text": [
      "Logistic Regression Accuracy on train: 79.09%\n",
      "Logistic Regression Accuracy on test: 78.76%\n"
     ]
    }
   ],
   "source": [
    "print('Logistic Regression Accuracy on train: {:.2%}'.format(log_reg2.score(x_train2, y_train2)))\n",
    "print('Logistic Regression Accuracy on test: {:.2%}'.format(log_reg2.score(x_test2, y_test2)))"
   ]
  },
  {
   "cell_type": "code",
   "execution_count": 426,
   "metadata": {},
   "outputs": [],
   "source": [
    "# Validation Curve\n",
    "\n",
    "# Determine training and test scores for varying number of c_range\n",
    "# c value represents regularization strength - smaller values specify stronger regularization.\n",
    "\n",
    "c_range = [.1, .5, 1, 5, 10, 100, 200]\n",
    "\n",
    "# scores for each c\n",
    "train_score_lr, test_score_lr = validation_curve(LogisticRegression(), x_new, yg, param_name='C', param_range=c_range, cv=4)"
   ]
  },
  {
   "cell_type": "code",
   "execution_count": 429,
   "metadata": {},
   "outputs": [
    {
     "name": "stdout",
     "output_type": "stream",
     "text": [
      "          Train    Test\n",
      "0.1    0.790133  0.7906\n",
      "0.5    0.790133  0.7906\n",
      "1.0    0.790133  0.7906\n",
      "5.0    0.790133  0.7906\n",
      "10.0   0.790133  0.7906\n",
      "100.0  0.790133  0.7906\n",
      "200.0  0.790133  0.7906\n",
      "\n",
      "Average cross validation scores on train and test set for each C\n"
     ]
    }
   ],
   "source": [
    "# Show results of Validation Curve\n",
    "\n",
    "# define index\n",
    "c_range = [.1, .5, 1, 5, 10, 100, 200]\n",
    "\n",
    "# create DataFrame\n",
    "tr_lr = pd.DataFrame(train_score_lr.mean(axis=1), index=c_range)\n",
    "tst_lr = pd.DataFrame(test_score_lr.mean(axis=1), index=c_range)\n",
    "lr_val_curve = pd.concat([tr_lr, tst_lr], axis=1)\n",
    "\n",
    "# rename columns\n",
    "lr_val_curve.columns = ['Train', 'Test']\n",
    "\n",
    "# Display Results\n",
    "print(lr_val_curve)\n",
    "\n",
    "print('')\n",
    "print('Average cross validation scores on train and test set for each C')"
   ]
  },
  {
   "cell_type": "code",
   "execution_count": 330,
   "metadata": {},
   "outputs": [],
   "source": [
    "# Linear SVC"
   ]
  },
  {
   "cell_type": "code",
   "execution_count": 331,
   "metadata": {},
   "outputs": [],
   "source": [
    "# import\n",
    "\n",
    "from sklearn.svm import LinearSVC\n",
    "from sklearn.preprocessing import MinMaxScaler"
   ]
  },
  {
   "cell_type": "code",
   "execution_count": 332,
   "metadata": {},
   "outputs": [],
   "source": [
    "# MinMaxScaler\n",
    "# Transform features by scaling each feature to a given range.\n",
    "\n",
    "# define\n",
    "scaler = MinMaxScaler()\n",
    "\n",
    "# fit\n",
    "x_trans = scaler.fit_transform(x_new)"
   ]
  },
  {
   "cell_type": "code",
   "execution_count": 333,
   "metadata": {},
   "outputs": [],
   "source": [
    "# train, test, split with scaled data\n",
    "x_train3, x_test3, y_train3, y_test3 = train_test_split(x_trans, yg, random_state=0)"
   ]
  },
  {
   "cell_type": "code",
   "execution_count": 334,
   "metadata": {},
   "outputs": [],
   "source": [
    "# Linear SVM"
   ]
  },
  {
   "cell_type": "code",
   "execution_count": 335,
   "metadata": {},
   "outputs": [
    {
     "data": {
      "text/plain": [
       "LinearSVC(C=0.1, random_state=0)"
      ]
     },
     "execution_count": 335,
     "metadata": {},
     "output_type": "execute_result"
    }
   ],
   "source": [
    "# Define\n",
    "svm = LinearSVC(C=0.1, random_state=0)\n",
    "\n",
    "# Fit\n",
    "svm.fit(x_train3, y_train3)"
   ]
  },
  {
   "cell_type": "code",
   "execution_count": 336,
   "metadata": {},
   "outputs": [
    {
     "name": "stdout",
     "output_type": "stream",
     "text": [
      "SVM accuracy on train: 80.07%\n",
      "SVM accuracy on test: 79.92%\n"
     ]
    }
   ],
   "source": [
    "print('SVM accuracy on train: {:.2%}'.format(svm.score(x_train3, y_train3)))\n",
    "print('SVM accuracy on test: {:.2%}'.format(svm.score(x_test3, y_test3)))"
   ]
  },
  {
   "cell_type": "code",
   "execution_count": 337,
   "metadata": {},
   "outputs": [],
   "source": [
    "# Validation Curve\n",
    "\n",
    "# Determine training and test scores for varying number of c_range\n",
    "# c value represents regularization strength - smaller values specify stronger regularization.\n",
    "\n",
    "c_range = [.1, .5, 1, 5, 10, 100, 200]\n",
    "\n",
    "# scores for each c\n",
    "train_score_svm, test_score_svm = validation_curve(LinearSVC(random_state=0, max_iter=50000), x_trans, yg, param_name='C', param_range=c_range, cv=4)"
   ]
  },
  {
   "cell_type": "code",
   "execution_count": 338,
   "metadata": {},
   "outputs": [
    {
     "name": "stdout",
     "output_type": "stream",
     "text": [
      "          Train    Test\n",
      "0.1    0.801400  0.8001\n",
      "0.5    0.801267  0.8000\n",
      "1.0    0.801367  0.8002\n",
      "5.0    0.801333  0.8001\n",
      "10.0   0.801333  0.8001\n",
      "100.0  0.801367  0.8001\n",
      "200.0  0.801367  0.8001\n",
      "\n",
      "Average cross validation scores on train and test set for each C\n"
     ]
    }
   ],
   "source": [
    "# Show results of Validation Curve\n",
    "\n",
    "# define index\n",
    "c_range = [.1, .5, 1, 5, 10, 100, 200]\n",
    "\n",
    "# create DataFrame\n",
    "tr_svm = pd.DataFrame(train_score_svm.mean(axis=1), index=c_range)\n",
    "tst_svm = pd.DataFrame(test_score_svm.mean(axis=1), index=c_range)\n",
    "svm_val_curve = pd.concat([tr_svm, tst_svm], axis=1)\n",
    "\n",
    "# rename columns\n",
    "svm_val_curve.columns = ['Train', 'Test']\n",
    "\n",
    "# Display Results\n",
    "print(svm_val_curve)\n",
    "\n",
    "print('')\n",
    "print('Average cross validation scores on train and test set for each C')"
   ]
  },
  {
   "cell_type": "code",
   "execution_count": 339,
   "metadata": {},
   "outputs": [],
   "source": [
    "# Decision Tree"
   ]
  },
  {
   "cell_type": "code",
   "execution_count": 340,
   "metadata": {},
   "outputs": [],
   "source": [
    "# import\n",
    "\n",
    "from sklearn.tree import DecisionTreeClassifier"
   ]
  },
  {
   "cell_type": "code",
   "execution_count": 341,
   "metadata": {},
   "outputs": [
    {
     "data": {
      "text/plain": [
       "DecisionTreeClassifier(max_depth=3, random_state=0)"
      ]
     },
     "execution_count": 341,
     "metadata": {},
     "output_type": "execute_result"
    }
   ],
   "source": [
    "# Define\n",
    "dt = DecisionTreeClassifier(random_state=0, max_depth=3)\n",
    "\n",
    "# fit\n",
    "dt.fit(x_train2, y_train2)"
   ]
  },
  {
   "cell_type": "code",
   "execution_count": 342,
   "metadata": {},
   "outputs": [
    {
     "name": "stdout",
     "output_type": "stream",
     "text": [
      "Decision Tree accuracy on train: 83.92%\n",
      "Decision Tree accuracy on test: 84.16%\n"
     ]
    }
   ],
   "source": [
    "print('Decision Tree accuracy on train: {:.2%}'.format(dt.score(x_train2, y_train2)))\n",
    "print('Decision Tree accuracy on test: {:.2%}'.format(dt.score(x_test2, y_test2)))"
   ]
  },
  {
   "cell_type": "code",
   "execution_count": 344,
   "metadata": {},
   "outputs": [],
   "source": [
    "# Validation Curve\n",
    "\n",
    "# Determine training and test scores for varying max_depth\n",
    "\n",
    "max_depth = [5,10,15]\n",
    "\n",
    "train_score_dt, test_score_dt = validation_curve(DecisionTreeClassifier(), x_new, yg, param_name='max_depth', param_range=max_depth, cv=4)"
   ]
  },
  {
   "cell_type": "code",
   "execution_count": 345,
   "metadata": {},
   "outputs": [
    {
     "name": "stdout",
     "output_type": "stream",
     "text": [
      "       Train    Test\n",
      "5   0.858700  0.8532\n",
      "10  0.895933  0.8313\n",
      "15  0.958533  0.8011\n",
      "\n",
      "Average cross validation scores on train and test set for each max_depth\n"
     ]
    }
   ],
   "source": [
    "# Show results of Validation Curve\n",
    "\n",
    "# define index\n",
    "max_depth = [5,10,15]\n",
    "\n",
    "# create DataFrame\n",
    "tr_dt = pd.DataFrame(train_score_dt.mean(axis=1), index=max_depth)\n",
    "tst_dt = pd.DataFrame(test_score_dt.mean(axis=1), index=max_depth)\n",
    "dt_val_curve = pd.concat([tr_dt, tst_dt], axis=1)\n",
    "\n",
    "# rename columns\n",
    "dt_val_curve.columns = ['Train', 'Test']\n",
    "\n",
    "# Display Results\n",
    "print(dt_val_curve)\n",
    "\n",
    "print('')\n",
    "print('Average cross validation scores on train and test set for each max_depth')"
   ]
  },
  {
   "cell_type": "code",
   "execution_count": 346,
   "metadata": {},
   "outputs": [],
   "source": [
    "# Random Forest"
   ]
  },
  {
   "cell_type": "code",
   "execution_count": 347,
   "metadata": {},
   "outputs": [],
   "source": [
    "# import\n",
    "\n",
    "from sklearn.ensemble import RandomForestClassifier"
   ]
  },
  {
   "cell_type": "code",
   "execution_count": 348,
   "metadata": {},
   "outputs": [
    {
     "data": {
      "text/plain": [
       "RandomForestClassifier(max_leaf_nodes=20, n_estimators=500, random_state=10)"
      ]
     },
     "execution_count": 348,
     "metadata": {},
     "output_type": "execute_result"
    }
   ],
   "source": [
    "# Define\n",
    "rf = RandomForestClassifier(n_estimators=500, random_state=10, max_leaf_nodes=20)\n",
    "\n",
    "# Fit\n",
    "rf.fit(x_train2, y_train2)"
   ]
  },
  {
   "cell_type": "code",
   "execution_count": 349,
   "metadata": {},
   "outputs": [
    {
     "name": "stdout",
     "output_type": "stream",
     "text": [
      "Random Forest Accuracy on train: 85.75%\n",
      "Random Forest Accuracy on test: 86.12%\n"
     ]
    }
   ],
   "source": [
    "print('Random Forest Accuracy on train: {:.2%}'.format(rf.score(x_train2, y_train2)))\n",
    "print('Random Forest Accuracy on test: {:.2%}'.format(rf.score(x_test2, y_test2)))"
   ]
  },
  {
   "cell_type": "code",
   "execution_count": 350,
   "metadata": {},
   "outputs": [],
   "source": [
    "# Validation Curve\n",
    "\n",
    "# Determine training and test scores for varying max_depth\n",
    "\n",
    "max_leaf_nodes = [10, 15, 20, 30, 40]\n",
    "\n",
    "train_score_rf, test_score_rf = validation_curve(RandomForestClassifier(), x_new, yg, param_name='max_leaf_nodes', param_range=max_leaf_nodes, cv=4)"
   ]
  },
  {
   "cell_type": "code",
   "execution_count": 351,
   "metadata": {},
   "outputs": [
    {
     "name": "stdout",
     "output_type": "stream",
     "text": [
      "       Train    Test\n",
      "10  0.851900  0.8484\n",
      "15  0.857467  0.8537\n",
      "20  0.858800  0.8546\n",
      "30  0.861000  0.8554\n",
      "40  0.863033  0.8562\n",
      "\n",
      "Average cross validation scores on train and test set for max_leaf_nodes\n"
     ]
    }
   ],
   "source": [
    "# Show results of Validation Curve\n",
    "\n",
    "# define index\n",
    "max_leaf_nodes = [10, 15, 20, 30, 40]\n",
    "\n",
    "# create DataFrame\n",
    "tr_rf = pd.DataFrame(train_score_rf.mean(axis=1), index=max_leaf_nodes)\n",
    "tst_rf = pd.DataFrame(test_score_rf.mean(axis=1), index=max_leaf_nodes)\n",
    "rf_val_curve = pd.concat([tr_rf, tst_rf], axis=1)\n",
    "\n",
    "# rename columns\n",
    "rf_val_curve.columns = ['Train', 'Test']\n",
    "\n",
    "# Display Results\n",
    "print(rf_val_curve)\n",
    "\n",
    "print('')\n",
    "print('Average cross validation scores on train and test set for max_leaf_nodes')"
   ]
  },
  {
   "cell_type": "markdown",
   "metadata": {},
   "source": [
    "## 6. Conclusion"
   ]
  },
  {
   "cell_type": "markdown",
   "metadata": {},
   "source": [
    "In comparing results from the validation curve of each model, we can compare model accuracy and determine which model is best used to predict Bank Customer Churn"
   ]
  },
  {
   "cell_type": "code",
   "execution_count": 476,
   "metadata": {},
   "outputs": [
    {
     "data": {
      "image/png": "[encoded data removed]",
      "text/plain": [
       "<Figure size 1440x360 with 5 Axes>"
      ]
     },
     "metadata": {
      "needs_background": "light"
     },
     "output_type": "display_data"
    }
   ],
   "source": [
    "# Visualize Accuracy of Models\n",
    "\n",
    "fig, axs = plt.subplots(1, 5, sharey=True, figsize=(20, 5))\n",
    "\n",
    "# knn\n",
    "axs[0].plot(knn_val_curve.iloc[:,0])\n",
    "axs[0].plot(knn_val_curve.iloc[:,1])\n",
    "axs[0].set_yticks(np.arange(0.7, 1.0, .05))\n",
    "axs[0].set_xlabel('n_neighbors')\n",
    "axs[0].set_ylabel('Model Accuracy')\n",
    "axs[0].set_title('KNN')\n",
    "axs[0].legend(['Train', 'Test'])\n",
    "\n",
    "# logistic regression\n",
    "axs[1].plot(lr_val_curve.iloc[:,0])\n",
    "axs[1].plot(lr_val_curve.iloc[:,1])\n",
    "axs[1].set_title('Logistic Regression')\n",
    "axs[1].set_xlabel('c value')\n",
    "axs[1].legend(['Train', 'Test'])\n",
    "\n",
    "# linear SVC\n",
    "axs[2].plot(svm_val_curve.iloc[:,0])\n",
    "axs[2].plot(svm_val_curve.iloc[:,1])\n",
    "axs[2].set_title('Linear SVC')\n",
    "axs[2].set_xlabel('c value')\n",
    "axs[2].legend(['Train', 'Test'])\n",
    "\n",
    "# Random Tree Classifier\n",
    "axs[3].plot(dt_val_curve.iloc[:,0])\n",
    "axs[3].plot(dt_val_curve.iloc[:,1])\n",
    "axs[3].set_title('Random Tree')\n",
    "axs[3].set_xlabel('max_depth')\n",
    "axs[3].legend(['Train', 'Test'])\n",
    "\n",
    "# Random Forest\n",
    "axs[4].plot(rf_val_curve.iloc[:,0])\n",
    "axs[4].plot(rf_val_curve.iloc[:,1])\n",
    "axs[4].set_title('Random Tree')\n",
    "axs[4].set_xlabel('max_leaf_nodes')\n",
    "axs[4].legend(['Train', 'Test'])\n",
    "\n",
    "\n",
    "plt.show()"
   ]
  },
  {
   "cell_type": "markdown",
   "metadata": {},
   "source": [
    "As we can see, the Random Tree model has the best accuracy of all the models we trained, correctly predicting that a customer will leave the bank 85.62% of the time. That being said, none of these models has a high enough accuracy to effectively be put into practice. \n",
    "\n",
    "The biggest flaw in this data set is that it has only 10,000 rows. We would need much more data to train a model a better model and improve the accuracy of predictions.\n",
    "\n",
    "Thanks for checking out my project!"
   ]
  }
 ],
 "metadata": {
  "kernelspec": {
   "display_name": "Python 3",
   "language": "python",
   "name": "python3"
  },
  "language_info": {
   "codemirror_mode": {
    "name": "ipython",
    "version": 3
   },
   "file_extension": ".py",
   "mimetype": "text/x-python",
   "name": "python",
   "nbconvert_exporter": "python",
   "pygments_lexer": "ipython3",
   "version": "3.8.3"
  }
 },
 "nbformat": 4,
 "nbformat_minor": 4
}
